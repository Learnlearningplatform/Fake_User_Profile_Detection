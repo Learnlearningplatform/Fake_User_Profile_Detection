{
 "cells": [
  {
   "cell_type": "markdown",
   "metadata": {},
   "source": [
    "## Importing Libraries"
   ]
  },
  {
   "cell_type": "code",
   "execution_count": 1,
   "metadata": {},
   "outputs": [],
   "source": [
    "import pandas as pd\n",
    "import numpy as np\n",
    "import seaborn as sns\n",
    "import matplotlib.pyplot as plt\n",
    "%matplotlib inline"
   ]
  },
  {
   "cell_type": "code",
   "execution_count": 37,
   "metadata": {},
   "outputs": [],
   "source": [
    "from sklearn.model_selection import cross_val_score\n",
    "from sklearn.model_selection import ShuffleSplit\n",
    "from sklearn.model_selection import train_test_split"
   ]
  },
  {
   "cell_type": "code",
   "execution_count": 41,
   "metadata": {},
   "outputs": [],
   "source": [
    "from sklearn.ensemble import RandomForestClassifier\n",
    "from sklearn.svm import SVC\n",
    "from xgboost import XGBClassifier"
   ]
  },
  {
   "cell_type": "code",
   "execution_count": 55,
   "metadata": {},
   "outputs": [],
   "source": [
    "from sklearn.metrics import confusion_matrix,classification_report,roc_curve"
   ]
  },
  {
   "cell_type": "markdown",
   "metadata": {},
   "source": [
    "## Loading Both the data frames "
   ]
  },
  {
   "cell_type": "code",
   "execution_count": 2,
   "metadata": {},
   "outputs": [
    {
     "data": {
      "text/html": [
       "<div>\n",
       "<style scoped>\n",
       "    .dataframe tbody tr th:only-of-type {\n",
       "        vertical-align: middle;\n",
       "    }\n",
       "\n",
       "    .dataframe tbody tr th {\n",
       "        vertical-align: top;\n",
       "    }\n",
       "\n",
       "    .dataframe thead th {\n",
       "        text-align: right;\n",
       "    }\n",
       "</style>\n",
       "<table border=\"1\" class=\"dataframe\">\n",
       "  <thead>\n",
       "    <tr style=\"text-align: right;\">\n",
       "      <th></th>\n",
       "      <th>id</th>\n",
       "      <th>name</th>\n",
       "      <th>screen_name</th>\n",
       "      <th>statuses_count</th>\n",
       "      <th>followers_count</th>\n",
       "      <th>friends_count</th>\n",
       "      <th>favourites_count</th>\n",
       "      <th>listed_count</th>\n",
       "      <th>created_at</th>\n",
       "      <th>url</th>\n",
       "      <th>...</th>\n",
       "      <th>profile_sidebar_fill_color</th>\n",
       "      <th>profile_background_image_url</th>\n",
       "      <th>profile_background_color</th>\n",
       "      <th>profile_link_color</th>\n",
       "      <th>utc_offset</th>\n",
       "      <th>protected</th>\n",
       "      <th>verified</th>\n",
       "      <th>description</th>\n",
       "      <th>updated</th>\n",
       "      <th>dataset</th>\n",
       "    </tr>\n",
       "  </thead>\n",
       "  <tbody>\n",
       "    <tr>\n",
       "      <td>0</td>\n",
       "      <td>370098498</td>\n",
       "      <td>pirfectmoses</td>\n",
       "      <td>pirfectmoses</td>\n",
       "      <td>24</td>\n",
       "      <td>4</td>\n",
       "      <td>588</td>\n",
       "      <td>16</td>\n",
       "      <td>0</td>\n",
       "      <td>Thu Sep 08 13:20:35 +0000 2011</td>\n",
       "      <td>NaN</td>\n",
       "      <td>...</td>\n",
       "      <td>DDEEF6</td>\n",
       "      <td>http://a0.twimg.com/profile_background_images/...</td>\n",
       "      <td>C6E2EE</td>\n",
       "      <td>1F98C7</td>\n",
       "      <td>NaN</td>\n",
       "      <td>NaN</td>\n",
       "      <td>NaN</td>\n",
       "      <td>NaN</td>\n",
       "      <td>2015-02-14 10:40:01</td>\n",
       "      <td>INT</td>\n",
       "    </tr>\n",
       "    <tr>\n",
       "      <td>1</td>\n",
       "      <td>37384589</td>\n",
       "      <td>SAK Nair</td>\n",
       "      <td>bsknair1967</td>\n",
       "      <td>656</td>\n",
       "      <td>57</td>\n",
       "      <td>693</td>\n",
       "      <td>597</td>\n",
       "      <td>0</td>\n",
       "      <td>Sun May 03 07:35:13 +0000 2009</td>\n",
       "      <td>NaN</td>\n",
       "      <td>...</td>\n",
       "      <td>DDEEF6</td>\n",
       "      <td>http://a0.twimg.com/images/themes/theme1/bg.png</td>\n",
       "      <td>C0DEED</td>\n",
       "      <td>0084B4</td>\n",
       "      <td>NaN</td>\n",
       "      <td>NaN</td>\n",
       "      <td>NaN</td>\n",
       "      <td>in Kuwait with my buetiful family.</td>\n",
       "      <td>2015-02-14 10:40:01</td>\n",
       "      <td>INT</td>\n",
       "    </tr>\n",
       "    <tr>\n",
       "      <td>2</td>\n",
       "      <td>72110028</td>\n",
       "      <td>Deepak</td>\n",
       "      <td>dedjven</td>\n",
       "      <td>1234</td>\n",
       "      <td>15</td>\n",
       "      <td>104</td>\n",
       "      <td>1150</td>\n",
       "      <td>0</td>\n",
       "      <td>Sun Sep 06 19:50:08 +0000 2009</td>\n",
       "      <td>NaN</td>\n",
       "      <td>...</td>\n",
       "      <td>EFEFEF</td>\n",
       "      <td>http://a0.twimg.com/images/themes/theme14/bg.gif</td>\n",
       "      <td>131516</td>\n",
       "      <td>009999</td>\n",
       "      <td>-39600.0</td>\n",
       "      <td>NaN</td>\n",
       "      <td>NaN</td>\n",
       "      <td>NaN</td>\n",
       "      <td>2015-02-14 10:40:01</td>\n",
       "      <td>INT</td>\n",
       "    </tr>\n",
       "  </tbody>\n",
       "</table>\n",
       "<p>3 rows × 34 columns</p>\n",
       "</div>"
      ],
      "text/plain": [
       "          id          name   screen_name  statuses_count  followers_count  \\\n",
       "0  370098498  pirfectmoses  pirfectmoses              24                4   \n",
       "1   37384589      SAK Nair   bsknair1967             656               57   \n",
       "2   72110028        Deepak       dedjven            1234               15   \n",
       "\n",
       "   friends_count  favourites_count  listed_count  \\\n",
       "0            588                16             0   \n",
       "1            693               597             0   \n",
       "2            104              1150             0   \n",
       "\n",
       "                       created_at  url  ... profile_sidebar_fill_color  \\\n",
       "0  Thu Sep 08 13:20:35 +0000 2011  NaN  ...                     DDEEF6   \n",
       "1  Sun May 03 07:35:13 +0000 2009  NaN  ...                     DDEEF6   \n",
       "2  Sun Sep 06 19:50:08 +0000 2009  NaN  ...                     EFEFEF   \n",
       "\n",
       "                        profile_background_image_url profile_background_color  \\\n",
       "0  http://a0.twimg.com/profile_background_images/...                   C6E2EE   \n",
       "1    http://a0.twimg.com/images/themes/theme1/bg.png                   C0DEED   \n",
       "2   http://a0.twimg.com/images/themes/theme14/bg.gif                   131516   \n",
       "\n",
       "   profile_link_color  utc_offset  protected verified  \\\n",
       "0              1F98C7         NaN        NaN      NaN   \n",
       "1              0084B4         NaN        NaN      NaN   \n",
       "2              009999    -39600.0        NaN      NaN   \n",
       "\n",
       "                          description              updated dataset  \n",
       "0                                 NaN  2015-02-14 10:40:01     INT  \n",
       "1  in Kuwait with my buetiful family.  2015-02-14 10:40:01     INT  \n",
       "2                                 NaN  2015-02-14 10:40:01     INT  \n",
       "\n",
       "[3 rows x 34 columns]"
      ]
     },
     "execution_count": 2,
     "metadata": {},
     "output_type": "execute_result"
    }
   ],
   "source": [
    "fake_users=pd.read_csv('fusers.csv')\n",
    "fake_users.head(3)"
   ]
  },
  {
   "cell_type": "code",
   "execution_count": 3,
   "metadata": {},
   "outputs": [
    {
     "data": {
      "text/plain": [
       "Index(['id', 'name', 'screen_name', 'statuses_count', 'followers_count',\n",
       "       'friends_count', 'favourites_count', 'listed_count', 'created_at',\n",
       "       'url', 'lang', 'time_zone', 'location', 'default_profile',\n",
       "       'default_profile_image', 'geo_enabled', 'profile_image_url',\n",
       "       'profile_banner_url', 'profile_use_background_image',\n",
       "       'profile_background_image_url_https', 'profile_text_color',\n",
       "       'profile_image_url_https', 'profile_sidebar_border_color',\n",
       "       'profile_background_tile', 'profile_sidebar_fill_color',\n",
       "       'profile_background_image_url', 'profile_background_color',\n",
       "       'profile_link_color', 'utc_offset', 'protected', 'verified',\n",
       "       'description', 'updated', 'dataset'],\n",
       "      dtype='object')"
      ]
     },
     "execution_count": 3,
     "metadata": {},
     "output_type": "execute_result"
    }
   ],
   "source": [
    "fake_users.columns"
   ]
  },
  {
   "cell_type": "code",
   "execution_count": 4,
   "metadata": {},
   "outputs": [
    {
     "data": {
      "text/plain": [
       "(1337, 34)"
      ]
     },
     "execution_count": 4,
     "metadata": {},
     "output_type": "execute_result"
    }
   ],
   "source": [
    "fake_users.shape"
   ]
  },
  {
   "cell_type": "code",
   "execution_count": 5,
   "metadata": {},
   "outputs": [
    {
     "data": {
      "text/html": [
       "<div>\n",
       "<style scoped>\n",
       "    .dataframe tbody tr th:only-of-type {\n",
       "        vertical-align: middle;\n",
       "    }\n",
       "\n",
       "    .dataframe tbody tr th {\n",
       "        vertical-align: top;\n",
       "    }\n",
       "\n",
       "    .dataframe thead th {\n",
       "        text-align: right;\n",
       "    }\n",
       "</style>\n",
       "<table border=\"1\" class=\"dataframe\">\n",
       "  <thead>\n",
       "    <tr style=\"text-align: right;\">\n",
       "      <th></th>\n",
       "      <th>id</th>\n",
       "      <th>name</th>\n",
       "      <th>screen_name</th>\n",
       "      <th>statuses_count</th>\n",
       "      <th>followers_count</th>\n",
       "      <th>friends_count</th>\n",
       "      <th>favourites_count</th>\n",
       "      <th>listed_count</th>\n",
       "      <th>created_at</th>\n",
       "      <th>url</th>\n",
       "      <th>...</th>\n",
       "      <th>profile_sidebar_fill_color</th>\n",
       "      <th>profile_background_image_url</th>\n",
       "      <th>profile_background_color</th>\n",
       "      <th>profile_link_color</th>\n",
       "      <th>utc_offset</th>\n",
       "      <th>protected</th>\n",
       "      <th>verified</th>\n",
       "      <th>description</th>\n",
       "      <th>updated</th>\n",
       "      <th>dataset</th>\n",
       "    </tr>\n",
       "  </thead>\n",
       "  <tbody>\n",
       "    <tr>\n",
       "      <td>0</td>\n",
       "      <td>3610511</td>\n",
       "      <td>Davide Dellacasa</td>\n",
       "      <td>braddd</td>\n",
       "      <td>20370</td>\n",
       "      <td>5470</td>\n",
       "      <td>2385</td>\n",
       "      <td>145</td>\n",
       "      <td>52</td>\n",
       "      <td>Fri Apr 06 10:58:22 +0000 2007</td>\n",
       "      <td>http://braddd.tumblr.com</td>\n",
       "      <td>...</td>\n",
       "      <td>FFF7CC</td>\n",
       "      <td>http://a0.twimg.com/profile_background_images/...</td>\n",
       "      <td>BADFCD</td>\n",
       "      <td>FF0000</td>\n",
       "      <td>3600.0</td>\n",
       "      <td>NaN</td>\n",
       "      <td>NaN</td>\n",
       "      <td>Founder of http://www.screenweek.it &amp; http://w...</td>\n",
       "      <td>2015-02-14 10:54:49</td>\n",
       "      <td>E13</td>\n",
       "    </tr>\n",
       "    <tr>\n",
       "      <td>1</td>\n",
       "      <td>5656162</td>\n",
       "      <td>Simone Economo</td>\n",
       "      <td>eKoeS</td>\n",
       "      <td>3131</td>\n",
       "      <td>506</td>\n",
       "      <td>381</td>\n",
       "      <td>9</td>\n",
       "      <td>40</td>\n",
       "      <td>Mon Apr 30 15:08:42 +0000 2007</td>\n",
       "      <td>http://www.lineheight.net/</td>\n",
       "      <td>...</td>\n",
       "      <td>DDEEF6</td>\n",
       "      <td>http://a0.twimg.com/images/themes/theme1/bg.png</td>\n",
       "      <td>C0DEED</td>\n",
       "      <td>0084B4</td>\n",
       "      <td>3600.0</td>\n",
       "      <td>NaN</td>\n",
       "      <td>NaN</td>\n",
       "      <td>BSc degree (cum laude) in Computer Engineering...</td>\n",
       "      <td>2015-02-14 10:54:49</td>\n",
       "      <td>E13</td>\n",
       "    </tr>\n",
       "    <tr>\n",
       "      <td>2</td>\n",
       "      <td>5682702</td>\n",
       "      <td>tacone</td>\n",
       "      <td>tacone_</td>\n",
       "      <td>4024</td>\n",
       "      <td>264</td>\n",
       "      <td>87</td>\n",
       "      <td>323</td>\n",
       "      <td>16</td>\n",
       "      <td>Tue May 01 11:53:40 +0000 2007</td>\n",
       "      <td>http://t.co/LKrl1dZE</td>\n",
       "      <td>...</td>\n",
       "      <td>000000</td>\n",
       "      <td>http://a0.twimg.com/profile_background_images/...</td>\n",
       "      <td>1A1B1F</td>\n",
       "      <td>2FC2EF</td>\n",
       "      <td>3600.0</td>\n",
       "      <td>NaN</td>\n",
       "      <td>NaN</td>\n",
       "      <td>Cogito ergo bestemmio.</td>\n",
       "      <td>2015-02-14 10:54:49</td>\n",
       "      <td>E13</td>\n",
       "    </tr>\n",
       "  </tbody>\n",
       "</table>\n",
       "<p>3 rows × 34 columns</p>\n",
       "</div>"
      ],
      "text/plain": [
       "        id              name screen_name  statuses_count  followers_count  \\\n",
       "0  3610511  Davide Dellacasa      braddd           20370             5470   \n",
       "1  5656162    Simone Economo       eKoeS            3131              506   \n",
       "2  5682702            tacone     tacone_            4024              264   \n",
       "\n",
       "   friends_count  favourites_count  listed_count  \\\n",
       "0           2385               145            52   \n",
       "1            381                 9            40   \n",
       "2             87               323            16   \n",
       "\n",
       "                       created_at                         url  ...  \\\n",
       "0  Fri Apr 06 10:58:22 +0000 2007    http://braddd.tumblr.com  ...   \n",
       "1  Mon Apr 30 15:08:42 +0000 2007  http://www.lineheight.net/  ...   \n",
       "2  Tue May 01 11:53:40 +0000 2007        http://t.co/LKrl1dZE  ...   \n",
       "\n",
       "  profile_sidebar_fill_color  \\\n",
       "0                     FFF7CC   \n",
       "1                     DDEEF6   \n",
       "2                     000000   \n",
       "\n",
       "                        profile_background_image_url profile_background_color  \\\n",
       "0  http://a0.twimg.com/profile_background_images/...                   BADFCD   \n",
       "1    http://a0.twimg.com/images/themes/theme1/bg.png                   C0DEED   \n",
       "2  http://a0.twimg.com/profile_background_images/...                   1A1B1F   \n",
       "\n",
       "   profile_link_color  utc_offset  protected verified  \\\n",
       "0              FF0000      3600.0        NaN      NaN   \n",
       "1              0084B4      3600.0        NaN      NaN   \n",
       "2              2FC2EF      3600.0        NaN      NaN   \n",
       "\n",
       "                                         description              updated  \\\n",
       "0  Founder of http://www.screenweek.it & http://w...  2015-02-14 10:54:49   \n",
       "1  BSc degree (cum laude) in Computer Engineering...  2015-02-14 10:54:49   \n",
       "2                             Cogito ergo bestemmio.  2015-02-14 10:54:49   \n",
       "\n",
       "  dataset  \n",
       "0     E13  \n",
       "1     E13  \n",
       "2     E13  \n",
       "\n",
       "[3 rows x 34 columns]"
      ]
     },
     "execution_count": 5,
     "metadata": {},
     "output_type": "execute_result"
    }
   ],
   "source": [
    "users=pd.read_csv('users.csv')\n",
    "users.head(3)"
   ]
  },
  {
   "cell_type": "code",
   "execution_count": 6,
   "metadata": {},
   "outputs": [
    {
     "data": {
      "text/plain": [
       "(1481, 34)"
      ]
     },
     "execution_count": 6,
     "metadata": {},
     "output_type": "execute_result"
    }
   ],
   "source": [
    "users.shape"
   ]
  },
  {
   "cell_type": "code",
   "execution_count": 7,
   "metadata": {},
   "outputs": [
    {
     "data": {
      "text/plain": [
       "Index(['id', 'name', 'screen_name', 'statuses_count', 'followers_count',\n",
       "       'friends_count', 'favourites_count', 'listed_count', 'created_at',\n",
       "       'url', 'lang', 'time_zone', 'location', 'default_profile',\n",
       "       'default_profile_image', 'geo_enabled', 'profile_image_url',\n",
       "       'profile_banner_url', 'profile_use_background_image',\n",
       "       'profile_background_image_url_https', 'profile_text_color',\n",
       "       'profile_image_url_https', 'profile_sidebar_border_color',\n",
       "       'profile_background_tile', 'profile_sidebar_fill_color',\n",
       "       'profile_background_image_url', 'profile_background_color',\n",
       "       'profile_link_color', 'utc_offset', 'protected', 'verified',\n",
       "       'description', 'updated', 'dataset'],\n",
       "      dtype='object')"
      ]
     },
     "execution_count": 7,
     "metadata": {},
     "output_type": "execute_result"
    }
   ],
   "source": [
    "users.columns"
   ]
  },
  {
   "cell_type": "markdown",
   "metadata": {},
   "source": [
    "## Feature Engineering"
   ]
  },
  {
   "cell_type": "markdown",
   "metadata": {},
   "source": [
    "### Adding fake columns"
   ]
  },
  {
   "cell_type": "code",
   "execution_count": 8,
   "metadata": {},
   "outputs": [],
   "source": [
    "users['Is_Fake']=0"
   ]
  },
  {
   "cell_type": "code",
   "execution_count": 9,
   "metadata": {},
   "outputs": [],
   "source": [
    "fake_users['Is_Fake']=1"
   ]
  },
  {
   "cell_type": "markdown",
   "metadata": {},
   "source": [
    "### Joining two data frame"
   ]
  },
  {
   "cell_type": "code",
   "execution_count": 10,
   "metadata": {},
   "outputs": [],
   "source": [
    "dfs=[users,fake_users]"
   ]
  },
  {
   "cell_type": "code",
   "execution_count": 11,
   "metadata": {},
   "outputs": [],
   "source": [
    "df=pd.concat(dfs,sort=True)"
   ]
  },
  {
   "cell_type": "code",
   "execution_count": 12,
   "metadata": {},
   "outputs": [
    {
     "data": {
      "text/html": [
       "<div>\n",
       "<style scoped>\n",
       "    .dataframe tbody tr th:only-of-type {\n",
       "        vertical-align: middle;\n",
       "    }\n",
       "\n",
       "    .dataframe tbody tr th {\n",
       "        vertical-align: top;\n",
       "    }\n",
       "\n",
       "    .dataframe thead th {\n",
       "        text-align: right;\n",
       "    }\n",
       "</style>\n",
       "<table border=\"1\" class=\"dataframe\">\n",
       "  <thead>\n",
       "    <tr style=\"text-align: right;\">\n",
       "      <th></th>\n",
       "      <th>Is_Fake</th>\n",
       "      <th>created_at</th>\n",
       "      <th>dataset</th>\n",
       "      <th>default_profile</th>\n",
       "      <th>default_profile_image</th>\n",
       "      <th>description</th>\n",
       "      <th>favourites_count</th>\n",
       "      <th>followers_count</th>\n",
       "      <th>friends_count</th>\n",
       "      <th>geo_enabled</th>\n",
       "      <th>...</th>\n",
       "      <th>profile_text_color</th>\n",
       "      <th>profile_use_background_image</th>\n",
       "      <th>protected</th>\n",
       "      <th>screen_name</th>\n",
       "      <th>statuses_count</th>\n",
       "      <th>time_zone</th>\n",
       "      <th>updated</th>\n",
       "      <th>url</th>\n",
       "      <th>utc_offset</th>\n",
       "      <th>verified</th>\n",
       "    </tr>\n",
       "  </thead>\n",
       "  <tbody>\n",
       "    <tr>\n",
       "      <td>0</td>\n",
       "      <td>0</td>\n",
       "      <td>Fri Apr 06 10:58:22 +0000 2007</td>\n",
       "      <td>E13</td>\n",
       "      <td>NaN</td>\n",
       "      <td>NaN</td>\n",
       "      <td>Founder of http://www.screenweek.it &amp; http://w...</td>\n",
       "      <td>145</td>\n",
       "      <td>5470</td>\n",
       "      <td>2385</td>\n",
       "      <td>NaN</td>\n",
       "      <td>...</td>\n",
       "      <td>0C3E53</td>\n",
       "      <td>1.0</td>\n",
       "      <td>NaN</td>\n",
       "      <td>braddd</td>\n",
       "      <td>20370</td>\n",
       "      <td>Rome</td>\n",
       "      <td>2015-02-14 10:54:49</td>\n",
       "      <td>http://braddd.tumblr.com</td>\n",
       "      <td>3600.0</td>\n",
       "      <td>NaN</td>\n",
       "    </tr>\n",
       "    <tr>\n",
       "      <td>1</td>\n",
       "      <td>0</td>\n",
       "      <td>Mon Apr 30 15:08:42 +0000 2007</td>\n",
       "      <td>E13</td>\n",
       "      <td>NaN</td>\n",
       "      <td>NaN</td>\n",
       "      <td>BSc degree (cum laude) in Computer Engineering...</td>\n",
       "      <td>9</td>\n",
       "      <td>506</td>\n",
       "      <td>381</td>\n",
       "      <td>NaN</td>\n",
       "      <td>...</td>\n",
       "      <td>333333</td>\n",
       "      <td>1.0</td>\n",
       "      <td>NaN</td>\n",
       "      <td>eKoeS</td>\n",
       "      <td>3131</td>\n",
       "      <td>Rome</td>\n",
       "      <td>2015-02-14 10:54:49</td>\n",
       "      <td>http://www.lineheight.net/</td>\n",
       "      <td>3600.0</td>\n",
       "      <td>NaN</td>\n",
       "    </tr>\n",
       "    <tr>\n",
       "      <td>2</td>\n",
       "      <td>0</td>\n",
       "      <td>Tue May 01 11:53:40 +0000 2007</td>\n",
       "      <td>E13</td>\n",
       "      <td>NaN</td>\n",
       "      <td>NaN</td>\n",
       "      <td>Cogito ergo bestemmio.</td>\n",
       "      <td>323</td>\n",
       "      <td>264</td>\n",
       "      <td>87</td>\n",
       "      <td>NaN</td>\n",
       "      <td>...</td>\n",
       "      <td>666666</td>\n",
       "      <td>1.0</td>\n",
       "      <td>NaN</td>\n",
       "      <td>tacone_</td>\n",
       "      <td>4024</td>\n",
       "      <td>Rome</td>\n",
       "      <td>2015-02-14 10:54:49</td>\n",
       "      <td>http://t.co/LKrl1dZE</td>\n",
       "      <td>3600.0</td>\n",
       "      <td>NaN</td>\n",
       "    </tr>\n",
       "    <tr>\n",
       "      <td>3</td>\n",
       "      <td>0</td>\n",
       "      <td>Tue May 15 16:55:16 +0000 2007</td>\n",
       "      <td>E13</td>\n",
       "      <td>NaN</td>\n",
       "      <td>NaN</td>\n",
       "      <td>Se la vita ti dà sarde, scapocciale!</td>\n",
       "      <td>1118</td>\n",
       "      <td>640</td>\n",
       "      <td>622</td>\n",
       "      <td>1.0</td>\n",
       "      <td>...</td>\n",
       "      <td>3C3940</td>\n",
       "      <td>1.0</td>\n",
       "      <td>NaN</td>\n",
       "      <td>alesstar</td>\n",
       "      <td>40586</td>\n",
       "      <td>Rome</td>\n",
       "      <td>2015-02-14 10:54:49</td>\n",
       "      <td>http://alesstar.wordpress.com/</td>\n",
       "      <td>3600.0</td>\n",
       "      <td>NaN</td>\n",
       "    </tr>\n",
       "    <tr>\n",
       "      <td>4</td>\n",
       "      <td>0</td>\n",
       "      <td>Sun May 13 19:52:00 +0000 2007</td>\n",
       "      <td>E13</td>\n",
       "      <td>NaN</td>\n",
       "      <td>NaN</td>\n",
       "      <td>Je me souviens</td>\n",
       "      <td>13</td>\n",
       "      <td>62</td>\n",
       "      <td>64</td>\n",
       "      <td>1.0</td>\n",
       "      <td>...</td>\n",
       "      <td>333333</td>\n",
       "      <td>1.0</td>\n",
       "      <td>NaN</td>\n",
       "      <td>PerDiletto</td>\n",
       "      <td>2016</td>\n",
       "      <td>Rome</td>\n",
       "      <td>2015-02-14 10:54:49</td>\n",
       "      <td>http://www.flickr.com/per_diletto</td>\n",
       "      <td>3600.0</td>\n",
       "      <td>NaN</td>\n",
       "    </tr>\n",
       "  </tbody>\n",
       "</table>\n",
       "<p>5 rows × 35 columns</p>\n",
       "</div>"
      ],
      "text/plain": [
       "   Is_Fake                      created_at dataset  default_profile  \\\n",
       "0        0  Fri Apr 06 10:58:22 +0000 2007     E13              NaN   \n",
       "1        0  Mon Apr 30 15:08:42 +0000 2007     E13              NaN   \n",
       "2        0  Tue May 01 11:53:40 +0000 2007     E13              NaN   \n",
       "3        0  Tue May 15 16:55:16 +0000 2007     E13              NaN   \n",
       "4        0  Sun May 13 19:52:00 +0000 2007     E13              NaN   \n",
       "\n",
       "   default_profile_image                                        description  \\\n",
       "0                    NaN  Founder of http://www.screenweek.it & http://w...   \n",
       "1                    NaN  BSc degree (cum laude) in Computer Engineering...   \n",
       "2                    NaN                             Cogito ergo bestemmio.   \n",
       "3                    NaN               Se la vita ti dà sarde, scapocciale!   \n",
       "4                    NaN                                     Je me souviens   \n",
       "\n",
       "   favourites_count  followers_count  friends_count  geo_enabled  ...  \\\n",
       "0               145             5470           2385          NaN  ...   \n",
       "1                 9              506            381          NaN  ...   \n",
       "2               323              264             87          NaN  ...   \n",
       "3              1118              640            622          1.0  ...   \n",
       "4                13               62             64          1.0  ...   \n",
       "\n",
       "   profile_text_color profile_use_background_image  protected screen_name  \\\n",
       "0              0C3E53                          1.0        NaN      braddd   \n",
       "1              333333                          1.0        NaN       eKoeS   \n",
       "2              666666                          1.0        NaN     tacone_   \n",
       "3              3C3940                          1.0        NaN    alesstar   \n",
       "4              333333                          1.0        NaN  PerDiletto   \n",
       "\n",
       "  statuses_count time_zone              updated  \\\n",
       "0          20370      Rome  2015-02-14 10:54:49   \n",
       "1           3131      Rome  2015-02-14 10:54:49   \n",
       "2           4024      Rome  2015-02-14 10:54:49   \n",
       "3          40586      Rome  2015-02-14 10:54:49   \n",
       "4           2016      Rome  2015-02-14 10:54:49   \n",
       "\n",
       "                                 url  utc_offset verified  \n",
       "0           http://braddd.tumblr.com      3600.0      NaN  \n",
       "1         http://www.lineheight.net/      3600.0      NaN  \n",
       "2               http://t.co/LKrl1dZE      3600.0      NaN  \n",
       "3     http://alesstar.wordpress.com/      3600.0      NaN  \n",
       "4  http://www.flickr.com/per_diletto      3600.0      NaN  \n",
       "\n",
       "[5 rows x 35 columns]"
      ]
     },
     "execution_count": 12,
     "metadata": {},
     "output_type": "execute_result"
    }
   ],
   "source": [
    "df.head()"
   ]
  },
  {
   "cell_type": "code",
   "execution_count": 13,
   "metadata": {},
   "outputs": [
    {
     "data": {
      "text/plain": [
       "0    1481\n",
       "1    1337\n",
       "Name: Is_Fake, dtype: int64"
      ]
     },
     "execution_count": 13,
     "metadata": {},
     "output_type": "execute_result"
    }
   ],
   "source": [
    "df['Is_Fake'].value_counts()"
   ]
  },
  {
   "cell_type": "code",
   "execution_count": 14,
   "metadata": {},
   "outputs": [
    {
     "data": {
      "text/plain": [
       "(2818, 35)"
      ]
     },
     "execution_count": 14,
     "metadata": {},
     "output_type": "execute_result"
    }
   ],
   "source": [
    "df.shape"
   ]
  },
  {
   "cell_type": "code",
   "execution_count": 15,
   "metadata": {},
   "outputs": [
    {
     "name": "stdout",
     "output_type": "stream",
     "text": [
      "<class 'pandas.core.frame.DataFrame'>\n",
      "Int64Index: 2818 entries, 0 to 1336\n",
      "Data columns (total 35 columns):\n",
      "Is_Fake                               2818 non-null int64\n",
      "created_at                            2818 non-null object\n",
      "dataset                               2818 non-null object\n",
      "default_profile                       1728 non-null float64\n",
      "default_profile_image                 8 non-null float64\n",
      "description                           2547 non-null object\n",
      "favourites_count                      2818 non-null int64\n",
      "followers_count                       2818 non-null int64\n",
      "friends_count                         2818 non-null int64\n",
      "geo_enabled                           721 non-null float64\n",
      "id                                    2818 non-null int64\n",
      "lang                                  2818 non-null object\n",
      "listed_count                          2818 non-null int64\n",
      "location                              2271 non-null object\n",
      "name                                  2818 non-null object\n",
      "profile_background_color              2818 non-null object\n",
      "profile_background_image_url          2818 non-null object\n",
      "profile_background_image_url_https    2818 non-null object\n",
      "profile_background_tile               489 non-null float64\n",
      "profile_banner_url                    987 non-null object\n",
      "profile_image_url                     2818 non-null object\n",
      "profile_image_url_https               2818 non-null object\n",
      "profile_link_color                    2818 non-null object\n",
      "profile_sidebar_border_color          2818 non-null object\n",
      "profile_sidebar_fill_color            2818 non-null object\n",
      "profile_text_color                    2818 non-null object\n",
      "profile_use_background_image          2760 non-null float64\n",
      "protected                             0 non-null float64\n",
      "screen_name                           2818 non-null object\n",
      "statuses_count                        2818 non-null int64\n",
      "time_zone                             1069 non-null object\n",
      "updated                               2818 non-null object\n",
      "url                                   463 non-null object\n",
      "utc_offset                            1069 non-null float64\n",
      "verified                              0 non-null float64\n",
      "dtypes: float64(8), int64(7), object(20)\n",
      "memory usage: 792.6+ KB\n"
     ]
    }
   ],
   "source": [
    "df.info()"
   ]
  },
  {
   "cell_type": "code",
   "execution_count": 16,
   "metadata": {},
   "outputs": [
    {
     "data": {
      "text/plain": [
       "Is_Fake                                  0\n",
       "created_at                               0\n",
       "dataset                                  0\n",
       "default_profile                       1090\n",
       "default_profile_image                 2810\n",
       "description                            271\n",
       "favourites_count                         0\n",
       "followers_count                          0\n",
       "friends_count                            0\n",
       "geo_enabled                           2097\n",
       "id                                       0\n",
       "lang                                     0\n",
       "listed_count                             0\n",
       "location                               547\n",
       "name                                     0\n",
       "profile_background_color                 0\n",
       "profile_background_image_url             0\n",
       "profile_background_image_url_https       0\n",
       "profile_background_tile               2329\n",
       "profile_banner_url                    1831\n",
       "profile_image_url                        0\n",
       "profile_image_url_https                  0\n",
       "profile_link_color                       0\n",
       "profile_sidebar_border_color             0\n",
       "profile_sidebar_fill_color               0\n",
       "profile_text_color                       0\n",
       "profile_use_background_image            58\n",
       "protected                             2818\n",
       "screen_name                              0\n",
       "statuses_count                           0\n",
       "time_zone                             1749\n",
       "updated                                  0\n",
       "url                                   2355\n",
       "utc_offset                            1749\n",
       "verified                              2818\n",
       "dtype: int64"
      ]
     },
     "execution_count": 16,
     "metadata": {},
     "output_type": "execute_result"
    }
   ],
   "source": [
    "df.isnull().sum()"
   ]
  },
  {
   "cell_type": "markdown",
   "metadata": {},
   "source": [
    "### Selecting the important features"
   ]
  },
  {
   "cell_type": "code",
   "execution_count": 17,
   "metadata": {},
   "outputs": [
    {
     "data": {
      "text/html": [
       "<div>\n",
       "<style scoped>\n",
       "    .dataframe tbody tr th:only-of-type {\n",
       "        vertical-align: middle;\n",
       "    }\n",
       "\n",
       "    .dataframe tbody tr th {\n",
       "        vertical-align: top;\n",
       "    }\n",
       "\n",
       "    .dataframe thead th {\n",
       "        text-align: right;\n",
       "    }\n",
       "</style>\n",
       "<table border=\"1\" class=\"dataframe\">\n",
       "  <thead>\n",
       "    <tr style=\"text-align: right;\">\n",
       "      <th></th>\n",
       "      <th>Is_Fake</th>\n",
       "      <th>default_profile</th>\n",
       "      <th>default_profile_image</th>\n",
       "      <th>favourites_count</th>\n",
       "      <th>followers_count</th>\n",
       "      <th>friends_count</th>\n",
       "      <th>geo_enabled</th>\n",
       "      <th>id</th>\n",
       "      <th>listed_count</th>\n",
       "      <th>profile_background_tile</th>\n",
       "      <th>profile_use_background_image</th>\n",
       "      <th>protected</th>\n",
       "      <th>statuses_count</th>\n",
       "      <th>utc_offset</th>\n",
       "      <th>verified</th>\n",
       "    </tr>\n",
       "  </thead>\n",
       "  <tbody>\n",
       "    <tr>\n",
       "      <td>count</td>\n",
       "      <td>2818.000000</td>\n",
       "      <td>1728.0</td>\n",
       "      <td>8.0</td>\n",
       "      <td>2818.000000</td>\n",
       "      <td>2818.000000</td>\n",
       "      <td>2818.000000</td>\n",
       "      <td>721.0</td>\n",
       "      <td>2.818000e+03</td>\n",
       "      <td>2818.000000</td>\n",
       "      <td>489.0</td>\n",
       "      <td>2760.0</td>\n",
       "      <td>0.0</td>\n",
       "      <td>2818.000000</td>\n",
       "      <td>1069.000000</td>\n",
       "      <td>0.0</td>\n",
       "    </tr>\n",
       "    <tr>\n",
       "      <td>mean</td>\n",
       "      <td>0.474450</td>\n",
       "      <td>1.0</td>\n",
       "      <td>1.0</td>\n",
       "      <td>234.541164</td>\n",
       "      <td>371.105039</td>\n",
       "      <td>395.363023</td>\n",
       "      <td>1.0</td>\n",
       "      <td>5.374889e+08</td>\n",
       "      <td>2.818666</td>\n",
       "      <td>1.0</td>\n",
       "      <td>1.0</td>\n",
       "      <td>NaN</td>\n",
       "      <td>1672.198368</td>\n",
       "      <td>1478.391020</td>\n",
       "      <td>NaN</td>\n",
       "    </tr>\n",
       "    <tr>\n",
       "      <td>std</td>\n",
       "      <td>0.499435</td>\n",
       "      <td>0.0</td>\n",
       "      <td>0.0</td>\n",
       "      <td>1445.847248</td>\n",
       "      <td>8022.631339</td>\n",
       "      <td>465.694322</td>\n",
       "      <td>0.0</td>\n",
       "      <td>2.977005e+08</td>\n",
       "      <td>23.480430</td>\n",
       "      <td>0.0</td>\n",
       "      <td>0.0</td>\n",
       "      <td>NaN</td>\n",
       "      <td>4884.669157</td>\n",
       "      <td>8108.211889</td>\n",
       "      <td>NaN</td>\n",
       "    </tr>\n",
       "    <tr>\n",
       "      <td>min</td>\n",
       "      <td>0.000000</td>\n",
       "      <td>1.0</td>\n",
       "      <td>1.0</td>\n",
       "      <td>0.000000</td>\n",
       "      <td>0.000000</td>\n",
       "      <td>0.000000</td>\n",
       "      <td>1.0</td>\n",
       "      <td>3.610511e+06</td>\n",
       "      <td>0.000000</td>\n",
       "      <td>1.0</td>\n",
       "      <td>1.0</td>\n",
       "      <td>NaN</td>\n",
       "      <td>0.000000</td>\n",
       "      <td>-39600.000000</td>\n",
       "      <td>NaN</td>\n",
       "    </tr>\n",
       "    <tr>\n",
       "      <td>25%</td>\n",
       "      <td>0.000000</td>\n",
       "      <td>1.0</td>\n",
       "      <td>1.0</td>\n",
       "      <td>0.000000</td>\n",
       "      <td>17.000000</td>\n",
       "      <td>168.000000</td>\n",
       "      <td>1.0</td>\n",
       "      <td>3.620867e+08</td>\n",
       "      <td>0.000000</td>\n",
       "      <td>1.0</td>\n",
       "      <td>1.0</td>\n",
       "      <td>NaN</td>\n",
       "      <td>35.000000</td>\n",
       "      <td>3600.000000</td>\n",
       "      <td>NaN</td>\n",
       "    </tr>\n",
       "    <tr>\n",
       "      <td>50%</td>\n",
       "      <td>0.000000</td>\n",
       "      <td>1.0</td>\n",
       "      <td>1.0</td>\n",
       "      <td>0.000000</td>\n",
       "      <td>26.000000</td>\n",
       "      <td>306.000000</td>\n",
       "      <td>1.0</td>\n",
       "      <td>6.162253e+08</td>\n",
       "      <td>0.000000</td>\n",
       "      <td>1.0</td>\n",
       "      <td>1.0</td>\n",
       "      <td>NaN</td>\n",
       "      <td>77.000000</td>\n",
       "      <td>3600.000000</td>\n",
       "      <td>NaN</td>\n",
       "    </tr>\n",
       "    <tr>\n",
       "      <td>75%</td>\n",
       "      <td>1.000000</td>\n",
       "      <td>1.0</td>\n",
       "      <td>1.0</td>\n",
       "      <td>37.000000</td>\n",
       "      <td>111.000000</td>\n",
       "      <td>519.000000</td>\n",
       "      <td>1.0</td>\n",
       "      <td>6.177673e+08</td>\n",
       "      <td>1.000000</td>\n",
       "      <td>1.0</td>\n",
       "      <td>1.0</td>\n",
       "      <td>NaN</td>\n",
       "      <td>1087.750000</td>\n",
       "      <td>3600.000000</td>\n",
       "      <td>NaN</td>\n",
       "    </tr>\n",
       "    <tr>\n",
       "      <td>max</td>\n",
       "      <td>1.000000</td>\n",
       "      <td>1.0</td>\n",
       "      <td>1.0</td>\n",
       "      <td>44349.000000</td>\n",
       "      <td>408372.000000</td>\n",
       "      <td>12773.000000</td>\n",
       "      <td>1.0</td>\n",
       "      <td>1.391998e+09</td>\n",
       "      <td>744.000000</td>\n",
       "      <td>1.0</td>\n",
       "      <td>1.0</td>\n",
       "      <td>NaN</td>\n",
       "      <td>79876.000000</td>\n",
       "      <td>36000.000000</td>\n",
       "      <td>NaN</td>\n",
       "    </tr>\n",
       "  </tbody>\n",
       "</table>\n",
       "</div>"
      ],
      "text/plain": [
       "           Is_Fake  default_profile  default_profile_image  favourites_count  \\\n",
       "count  2818.000000           1728.0                    8.0       2818.000000   \n",
       "mean      0.474450              1.0                    1.0        234.541164   \n",
       "std       0.499435              0.0                    0.0       1445.847248   \n",
       "min       0.000000              1.0                    1.0          0.000000   \n",
       "25%       0.000000              1.0                    1.0          0.000000   \n",
       "50%       0.000000              1.0                    1.0          0.000000   \n",
       "75%       1.000000              1.0                    1.0         37.000000   \n",
       "max       1.000000              1.0                    1.0      44349.000000   \n",
       "\n",
       "       followers_count  friends_count  geo_enabled            id  \\\n",
       "count      2818.000000    2818.000000        721.0  2.818000e+03   \n",
       "mean        371.105039     395.363023          1.0  5.374889e+08   \n",
       "std        8022.631339     465.694322          0.0  2.977005e+08   \n",
       "min           0.000000       0.000000          1.0  3.610511e+06   \n",
       "25%          17.000000     168.000000          1.0  3.620867e+08   \n",
       "50%          26.000000     306.000000          1.0  6.162253e+08   \n",
       "75%         111.000000     519.000000          1.0  6.177673e+08   \n",
       "max      408372.000000   12773.000000          1.0  1.391998e+09   \n",
       "\n",
       "       listed_count  profile_background_tile  profile_use_background_image  \\\n",
       "count   2818.000000                    489.0                        2760.0   \n",
       "mean       2.818666                      1.0                           1.0   \n",
       "std       23.480430                      0.0                           0.0   \n",
       "min        0.000000                      1.0                           1.0   \n",
       "25%        0.000000                      1.0                           1.0   \n",
       "50%        0.000000                      1.0                           1.0   \n",
       "75%        1.000000                      1.0                           1.0   \n",
       "max      744.000000                      1.0                           1.0   \n",
       "\n",
       "       protected  statuses_count    utc_offset  verified  \n",
       "count        0.0     2818.000000   1069.000000       0.0  \n",
       "mean         NaN     1672.198368   1478.391020       NaN  \n",
       "std          NaN     4884.669157   8108.211889       NaN  \n",
       "min          NaN        0.000000 -39600.000000       NaN  \n",
       "25%          NaN       35.000000   3600.000000       NaN  \n",
       "50%          NaN       77.000000   3600.000000       NaN  \n",
       "75%          NaN     1087.750000   3600.000000       NaN  \n",
       "max          NaN    79876.000000  36000.000000       NaN  "
      ]
     },
     "execution_count": 17,
     "metadata": {},
     "output_type": "execute_result"
    }
   ],
   "source": [
    "df.describe()"
   ]
  },
  {
   "cell_type": "code",
   "execution_count": 18,
   "metadata": {},
   "outputs": [
    {
     "data": {
      "text/plain": [
       "Is_Fake  lang\n",
       "0        it      1297\n",
       "         en       166\n",
       "         es        10\n",
       "         fr         3\n",
       "         de         2\n",
       "         gl         1\n",
       "         nl         1\n",
       "         tr         1\n",
       "1        en      1336\n",
       "         es         1\n",
       "Name: lang, dtype: int64"
      ]
     },
     "execution_count": 18,
     "metadata": {},
     "output_type": "execute_result"
    }
   ],
   "source": [
    "df.groupby('Is_Fake')['lang'].value_counts()"
   ]
  },
  {
   "cell_type": "code",
   "execution_count": 19,
   "metadata": {},
   "outputs": [
    {
     "data": {
      "text/plain": [
       "Is_Fake  listed_count\n",
       "0        0                703\n",
       "         1                276\n",
       "         2                134\n",
       "         3                 70\n",
       "         4                 52\n",
       "                         ... \n",
       "         486                1\n",
       "         715                1\n",
       "         744                1\n",
       "1        0               1333\n",
       "         1                  4\n",
       "Name: listed_count, Length: 67, dtype: int64"
      ]
     },
     "execution_count": 19,
     "metadata": {},
     "output_type": "execute_result"
    }
   ],
   "source": [
    "df.groupby('Is_Fake')['listed_count'].value_counts()"
   ]
  },
  {
   "cell_type": "code",
   "execution_count": 20,
   "metadata": {},
   "outputs": [
    {
     "data": {
      "text/plain": [
       "Is_Fake  default_profile\n",
       "0        1.0                 397\n",
       "1        1.0                1331\n",
       "Name: default_profile, dtype: int64"
      ]
     },
     "execution_count": 20,
     "metadata": {},
     "output_type": "execute_result"
    }
   ],
   "source": [
    "df.groupby('Is_Fake')['default_profile'].value_counts()"
   ]
  },
  {
   "cell_type": "markdown",
   "metadata": {},
   "source": [
    "## Creating a new data frame with important features "
   ]
  },
  {
   "cell_type": "code",
   "execution_count": 21,
   "metadata": {},
   "outputs": [],
   "source": [
    "df1=df[['favourites_count','followers_count','statuses_count','friends_count','listed_count','geo_enabled','default_profile','profile_use_background_image','Is_Fake']]"
   ]
  },
  {
   "cell_type": "code",
   "execution_count": 22,
   "metadata": {},
   "outputs": [
    {
     "data": {
      "text/html": [
       "<div>\n",
       "<style scoped>\n",
       "    .dataframe tbody tr th:only-of-type {\n",
       "        vertical-align: middle;\n",
       "    }\n",
       "\n",
       "    .dataframe tbody tr th {\n",
       "        vertical-align: top;\n",
       "    }\n",
       "\n",
       "    .dataframe thead th {\n",
       "        text-align: right;\n",
       "    }\n",
       "</style>\n",
       "<table border=\"1\" class=\"dataframe\">\n",
       "  <thead>\n",
       "    <tr style=\"text-align: right;\">\n",
       "      <th></th>\n",
       "      <th>favourites_count</th>\n",
       "      <th>followers_count</th>\n",
       "      <th>statuses_count</th>\n",
       "      <th>friends_count</th>\n",
       "      <th>listed_count</th>\n",
       "      <th>geo_enabled</th>\n",
       "      <th>default_profile</th>\n",
       "      <th>profile_use_background_image</th>\n",
       "      <th>Is_Fake</th>\n",
       "    </tr>\n",
       "  </thead>\n",
       "  <tbody>\n",
       "    <tr>\n",
       "      <td>0</td>\n",
       "      <td>145</td>\n",
       "      <td>5470</td>\n",
       "      <td>20370</td>\n",
       "      <td>2385</td>\n",
       "      <td>52</td>\n",
       "      <td>NaN</td>\n",
       "      <td>NaN</td>\n",
       "      <td>1.0</td>\n",
       "      <td>0</td>\n",
       "    </tr>\n",
       "    <tr>\n",
       "      <td>1</td>\n",
       "      <td>9</td>\n",
       "      <td>506</td>\n",
       "      <td>3131</td>\n",
       "      <td>381</td>\n",
       "      <td>40</td>\n",
       "      <td>NaN</td>\n",
       "      <td>NaN</td>\n",
       "      <td>1.0</td>\n",
       "      <td>0</td>\n",
       "    </tr>\n",
       "    <tr>\n",
       "      <td>2</td>\n",
       "      <td>323</td>\n",
       "      <td>264</td>\n",
       "      <td>4024</td>\n",
       "      <td>87</td>\n",
       "      <td>16</td>\n",
       "      <td>NaN</td>\n",
       "      <td>NaN</td>\n",
       "      <td>1.0</td>\n",
       "      <td>0</td>\n",
       "    </tr>\n",
       "    <tr>\n",
       "      <td>3</td>\n",
       "      <td>1118</td>\n",
       "      <td>640</td>\n",
       "      <td>40586</td>\n",
       "      <td>622</td>\n",
       "      <td>32</td>\n",
       "      <td>1.0</td>\n",
       "      <td>NaN</td>\n",
       "      <td>1.0</td>\n",
       "      <td>0</td>\n",
       "    </tr>\n",
       "    <tr>\n",
       "      <td>4</td>\n",
       "      <td>13</td>\n",
       "      <td>62</td>\n",
       "      <td>2016</td>\n",
       "      <td>64</td>\n",
       "      <td>0</td>\n",
       "      <td>1.0</td>\n",
       "      <td>NaN</td>\n",
       "      <td>1.0</td>\n",
       "      <td>0</td>\n",
       "    </tr>\n",
       "  </tbody>\n",
       "</table>\n",
       "</div>"
      ],
      "text/plain": [
       "   favourites_count  followers_count  statuses_count  friends_count  \\\n",
       "0               145             5470           20370           2385   \n",
       "1                 9              506            3131            381   \n",
       "2               323              264            4024             87   \n",
       "3              1118              640           40586            622   \n",
       "4                13               62            2016             64   \n",
       "\n",
       "   listed_count  geo_enabled  default_profile  profile_use_background_image  \\\n",
       "0            52          NaN              NaN                           1.0   \n",
       "1            40          NaN              NaN                           1.0   \n",
       "2            16          NaN              NaN                           1.0   \n",
       "3            32          1.0              NaN                           1.0   \n",
       "4             0          1.0              NaN                           1.0   \n",
       "\n",
       "   Is_Fake  \n",
       "0        0  \n",
       "1        0  \n",
       "2        0  \n",
       "3        0  \n",
       "4        0  "
      ]
     },
     "execution_count": 22,
     "metadata": {},
     "output_type": "execute_result"
    }
   ],
   "source": [
    "df1.head()"
   ]
  },
  {
   "cell_type": "code",
   "execution_count": 23,
   "metadata": {},
   "outputs": [
    {
     "data": {
      "text/plain": [
       "favourites_count                   0\n",
       "followers_count                    0\n",
       "statuses_count                     0\n",
       "friends_count                      0\n",
       "listed_count                       0\n",
       "geo_enabled                     2097\n",
       "default_profile                 1090\n",
       "profile_use_background_image      58\n",
       "Is_Fake                            0\n",
       "dtype: int64"
      ]
     },
     "execution_count": 23,
     "metadata": {},
     "output_type": "execute_result"
    }
   ],
   "source": [
    "df1.isnull().sum()"
   ]
  },
  {
   "cell_type": "markdown",
   "metadata": {},
   "source": [
    "### EDA"
   ]
  },
  {
   "cell_type": "code",
   "execution_count": 24,
   "metadata": {},
   "outputs": [
    {
     "name": "stderr",
     "output_type": "stream",
     "text": [
      "/home/s0umyajit/anaconda3/lib/python3.7/site-packages/pandas/core/frame.py:4244: SettingWithCopyWarning: \n",
      "A value is trying to be set on a copy of a slice from a DataFrame\n",
      "\n",
      "See the caveats in the documentation: http://pandas.pydata.org/pandas-docs/stable/user_guide/indexing.html#returning-a-view-versus-a-copy\n",
      "  **kwargs\n"
     ]
    }
   ],
   "source": [
    "df1.fillna(value=0,inplace=True)"
   ]
  },
  {
   "cell_type": "code",
   "execution_count": 25,
   "metadata": {},
   "outputs": [
    {
     "data": {
      "text/html": [
       "<div>\n",
       "<style scoped>\n",
       "    .dataframe tbody tr th:only-of-type {\n",
       "        vertical-align: middle;\n",
       "    }\n",
       "\n",
       "    .dataframe tbody tr th {\n",
       "        vertical-align: top;\n",
       "    }\n",
       "\n",
       "    .dataframe thead th {\n",
       "        text-align: right;\n",
       "    }\n",
       "</style>\n",
       "<table border=\"1\" class=\"dataframe\">\n",
       "  <thead>\n",
       "    <tr style=\"text-align: right;\">\n",
       "      <th></th>\n",
       "      <th>favourites_count</th>\n",
       "      <th>followers_count</th>\n",
       "      <th>statuses_count</th>\n",
       "      <th>friends_count</th>\n",
       "      <th>listed_count</th>\n",
       "      <th>geo_enabled</th>\n",
       "      <th>default_profile</th>\n",
       "      <th>profile_use_background_image</th>\n",
       "      <th>Is_Fake</th>\n",
       "    </tr>\n",
       "  </thead>\n",
       "  <tbody>\n",
       "    <tr>\n",
       "      <td>0</td>\n",
       "      <td>145</td>\n",
       "      <td>5470</td>\n",
       "      <td>20370</td>\n",
       "      <td>2385</td>\n",
       "      <td>52</td>\n",
       "      <td>0.0</td>\n",
       "      <td>0.0</td>\n",
       "      <td>1.0</td>\n",
       "      <td>0</td>\n",
       "    </tr>\n",
       "    <tr>\n",
       "      <td>1</td>\n",
       "      <td>9</td>\n",
       "      <td>506</td>\n",
       "      <td>3131</td>\n",
       "      <td>381</td>\n",
       "      <td>40</td>\n",
       "      <td>0.0</td>\n",
       "      <td>0.0</td>\n",
       "      <td>1.0</td>\n",
       "      <td>0</td>\n",
       "    </tr>\n",
       "    <tr>\n",
       "      <td>2</td>\n",
       "      <td>323</td>\n",
       "      <td>264</td>\n",
       "      <td>4024</td>\n",
       "      <td>87</td>\n",
       "      <td>16</td>\n",
       "      <td>0.0</td>\n",
       "      <td>0.0</td>\n",
       "      <td>1.0</td>\n",
       "      <td>0</td>\n",
       "    </tr>\n",
       "    <tr>\n",
       "      <td>3</td>\n",
       "      <td>1118</td>\n",
       "      <td>640</td>\n",
       "      <td>40586</td>\n",
       "      <td>622</td>\n",
       "      <td>32</td>\n",
       "      <td>1.0</td>\n",
       "      <td>0.0</td>\n",
       "      <td>1.0</td>\n",
       "      <td>0</td>\n",
       "    </tr>\n",
       "    <tr>\n",
       "      <td>4</td>\n",
       "      <td>13</td>\n",
       "      <td>62</td>\n",
       "      <td>2016</td>\n",
       "      <td>64</td>\n",
       "      <td>0</td>\n",
       "      <td>1.0</td>\n",
       "      <td>0.0</td>\n",
       "      <td>1.0</td>\n",
       "      <td>0</td>\n",
       "    </tr>\n",
       "  </tbody>\n",
       "</table>\n",
       "</div>"
      ],
      "text/plain": [
       "   favourites_count  followers_count  statuses_count  friends_count  \\\n",
       "0               145             5470           20370           2385   \n",
       "1                 9              506            3131            381   \n",
       "2               323              264            4024             87   \n",
       "3              1118              640           40586            622   \n",
       "4                13               62            2016             64   \n",
       "\n",
       "   listed_count  geo_enabled  default_profile  profile_use_background_image  \\\n",
       "0            52          0.0              0.0                           1.0   \n",
       "1            40          0.0              0.0                           1.0   \n",
       "2            16          0.0              0.0                           1.0   \n",
       "3            32          1.0              0.0                           1.0   \n",
       "4             0          1.0              0.0                           1.0   \n",
       "\n",
       "   Is_Fake  \n",
       "0        0  \n",
       "1        0  \n",
       "2        0  \n",
       "3        0  \n",
       "4        0  "
      ]
     },
     "execution_count": 25,
     "metadata": {},
     "output_type": "execute_result"
    }
   ],
   "source": [
    "df1.head()"
   ]
  },
  {
   "cell_type": "code",
   "execution_count": 26,
   "metadata": {},
   "outputs": [
    {
     "data": {
      "text/plain": [
       "Is_Fake  default_profile\n",
       "0        0.0                1084\n",
       "         1.0                 397\n",
       "1        1.0                1331\n",
       "         0.0                   6\n",
       "Name: default_profile, dtype: int64"
      ]
     },
     "execution_count": 26,
     "metadata": {},
     "output_type": "execute_result"
    }
   ],
   "source": [
    "df1.groupby('Is_Fake')['default_profile'].value_counts()"
   ]
  },
  {
   "cell_type": "code",
   "execution_count": 27,
   "metadata": {},
   "outputs": [
    {
     "data": {
      "text/plain": [
       "Is_Fake  geo_enabled\n",
       "0        0.0             762\n",
       "         1.0             719\n",
       "1        0.0            1335\n",
       "         1.0               2\n",
       "Name: geo_enabled, dtype: int64"
      ]
     },
     "execution_count": 27,
     "metadata": {},
     "output_type": "execute_result"
    }
   ],
   "source": [
    "df1.groupby('Is_Fake')['geo_enabled'].value_counts()"
   ]
  },
  {
   "cell_type": "code",
   "execution_count": 28,
   "metadata": {},
   "outputs": [
    {
     "data": {
      "text/plain": [
       "<matplotlib.axes._subplots.AxesSubplot at 0x7f3d8d5f2150>"
      ]
     },
     "execution_count": 28,
     "metadata": {},
     "output_type": "execute_result"
    },
    {
     "data": {
      "image/png": "[encoded data removed]",
      "text/plain": [
       "<Figure size 432x288 with 1 Axes>"
      ]
     },
     "metadata": {
      "needs_background": "light"
     },
     "output_type": "display_data"
    }
   ],
   "source": [
    "sns.countplot(df1['geo_enabled'],hue=df['Is_Fake'])"
   ]
  },
  {
   "cell_type": "code",
   "execution_count": 29,
   "metadata": {},
   "outputs": [
    {
     "data": {
      "text/plain": [
       "<matplotlib.axes._subplots.AxesSubplot at 0x7f3d8d29b950>"
      ]
     },
     "execution_count": 29,
     "metadata": {},
     "output_type": "execute_result"
    },
    {
     "data": {
      "image/png": "[encoded data removed]",
      "text/plain": [
       "<Figure size 432x288 with 1 Axes>"
      ]
     },
     "metadata": {
      "needs_background": "light"
     },
     "output_type": "display_data"
    }
   ],
   "source": [
    "sns.countplot(df1['default_profile'],hue=df['Is_Fake'])"
   ]
  },
  {
   "cell_type": "code",
   "execution_count": 30,
   "metadata": {},
   "outputs": [
    {
     "data": {
      "text/plain": [
       "Is_Fake  profile_use_background_image\n",
       "0        1.0                             1423\n",
       "         0.0                               58\n",
       "1        1.0                             1337\n",
       "Name: profile_use_background_image, dtype: int64"
      ]
     },
     "execution_count": 30,
     "metadata": {},
     "output_type": "execute_result"
    }
   ],
   "source": [
    "df1.groupby('Is_Fake')['profile_use_background_image'].value_counts()"
   ]
  },
  {
   "cell_type": "code",
   "execution_count": 31,
   "metadata": {},
   "outputs": [
    {
     "data": {
      "text/plain": [
       "<matplotlib.axes._subplots.AxesSubplot at 0x7f3d8d20c3d0>"
      ]
     },
     "execution_count": 31,
     "metadata": {},
     "output_type": "execute_result"
    },
    {
     "data": {
      "image/png": "[encoded data removed]",
      "text/plain": [
       "<Figure size 432x288 with 1 Axes>"
      ]
     },
     "metadata": {
      "needs_background": "light"
     },
     "output_type": "display_data"
    }
   ],
   "source": [
    "sns.countplot(df1['profile_use_background_image'],hue=df['Is_Fake'])"
   ]
  },
  {
   "cell_type": "markdown",
   "metadata": {},
   "source": [
    "## Building the model with new data frame"
   ]
  },
  {
   "cell_type": "code",
   "execution_count": 32,
   "metadata": {},
   "outputs": [
    {
     "data": {
      "text/html": [
       "<div>\n",
       "<style scoped>\n",
       "    .dataframe tbody tr th:only-of-type {\n",
       "        vertical-align: middle;\n",
       "    }\n",
       "\n",
       "    .dataframe tbody tr th {\n",
       "        vertical-align: top;\n",
       "    }\n",
       "\n",
       "    .dataframe thead th {\n",
       "        text-align: right;\n",
       "    }\n",
       "</style>\n",
       "<table border=\"1\" class=\"dataframe\">\n",
       "  <thead>\n",
       "    <tr style=\"text-align: right;\">\n",
       "      <th></th>\n",
       "      <th>favourites_count</th>\n",
       "      <th>followers_count</th>\n",
       "      <th>statuses_count</th>\n",
       "      <th>friends_count</th>\n",
       "      <th>listed_count</th>\n",
       "      <th>geo_enabled</th>\n",
       "      <th>default_profile</th>\n",
       "      <th>profile_use_background_image</th>\n",
       "      <th>Is_Fake</th>\n",
       "    </tr>\n",
       "  </thead>\n",
       "  <tbody>\n",
       "    <tr>\n",
       "      <td>0</td>\n",
       "      <td>145</td>\n",
       "      <td>5470</td>\n",
       "      <td>20370</td>\n",
       "      <td>2385</td>\n",
       "      <td>52</td>\n",
       "      <td>0.0</td>\n",
       "      <td>0.0</td>\n",
       "      <td>1.0</td>\n",
       "      <td>0</td>\n",
       "    </tr>\n",
       "    <tr>\n",
       "      <td>1</td>\n",
       "      <td>9</td>\n",
       "      <td>506</td>\n",
       "      <td>3131</td>\n",
       "      <td>381</td>\n",
       "      <td>40</td>\n",
       "      <td>0.0</td>\n",
       "      <td>0.0</td>\n",
       "      <td>1.0</td>\n",
       "      <td>0</td>\n",
       "    </tr>\n",
       "    <tr>\n",
       "      <td>2</td>\n",
       "      <td>323</td>\n",
       "      <td>264</td>\n",
       "      <td>4024</td>\n",
       "      <td>87</td>\n",
       "      <td>16</td>\n",
       "      <td>0.0</td>\n",
       "      <td>0.0</td>\n",
       "      <td>1.0</td>\n",
       "      <td>0</td>\n",
       "    </tr>\n",
       "    <tr>\n",
       "      <td>3</td>\n",
       "      <td>1118</td>\n",
       "      <td>640</td>\n",
       "      <td>40586</td>\n",
       "      <td>622</td>\n",
       "      <td>32</td>\n",
       "      <td>1.0</td>\n",
       "      <td>0.0</td>\n",
       "      <td>1.0</td>\n",
       "      <td>0</td>\n",
       "    </tr>\n",
       "    <tr>\n",
       "      <td>4</td>\n",
       "      <td>13</td>\n",
       "      <td>62</td>\n",
       "      <td>2016</td>\n",
       "      <td>64</td>\n",
       "      <td>0</td>\n",
       "      <td>1.0</td>\n",
       "      <td>0.0</td>\n",
       "      <td>1.0</td>\n",
       "      <td>0</td>\n",
       "    </tr>\n",
       "  </tbody>\n",
       "</table>\n",
       "</div>"
      ],
      "text/plain": [
       "   favourites_count  followers_count  statuses_count  friends_count  \\\n",
       "0               145             5470           20370           2385   \n",
       "1                 9              506            3131            381   \n",
       "2               323              264            4024             87   \n",
       "3              1118              640           40586            622   \n",
       "4                13               62            2016             64   \n",
       "\n",
       "   listed_count  geo_enabled  default_profile  profile_use_background_image  \\\n",
       "0            52          0.0              0.0                           1.0   \n",
       "1            40          0.0              0.0                           1.0   \n",
       "2            16          0.0              0.0                           1.0   \n",
       "3            32          1.0              0.0                           1.0   \n",
       "4             0          1.0              0.0                           1.0   \n",
       "\n",
       "   Is_Fake  \n",
       "0        0  \n",
       "1        0  \n",
       "2        0  \n",
       "3        0  \n",
       "4        0  "
      ]
     },
     "execution_count": 32,
     "metadata": {},
     "output_type": "execute_result"
    }
   ],
   "source": [
    "df1.head()"
   ]
  },
  {
   "cell_type": "code",
   "execution_count": 33,
   "metadata": {},
   "outputs": [
    {
     "data": {
      "text/plain": [
       "(2818, 9)"
      ]
     },
     "execution_count": 33,
     "metadata": {},
     "output_type": "execute_result"
    }
   ],
   "source": [
    "df1.shape"
   ]
  },
  {
   "cell_type": "code",
   "execution_count": 35,
   "metadata": {},
   "outputs": [],
   "source": [
    "X=df1.drop('Is_Fake',axis=1)"
   ]
  },
  {
   "cell_type": "code",
   "execution_count": 36,
   "metadata": {},
   "outputs": [],
   "source": [
    "y=df1['Is_Fake']"
   ]
  },
  {
   "cell_type": "markdown",
   "metadata": {},
   "source": [
    "### Trying different models"
   ]
  },
  {
   "cell_type": "code",
   "execution_count": 42,
   "metadata": {},
   "outputs": [],
   "source": [
    "cv=ShuffleSplit(n_splits=10,random_state=42,test_size=0.3)"
   ]
  },
  {
   "cell_type": "code",
   "execution_count": 44,
   "metadata": {},
   "outputs": [
    {
     "data": {
      "text/plain": [
       "array([0.99408983, 0.9893617 , 0.9893617 , 0.99763593, 0.9964539 ,\n",
       "       0.9964539 , 0.99408983, 0.99881797, 0.99408983, 0.99408983])"
      ]
     },
     "execution_count": 44,
     "metadata": {},
     "output_type": "execute_result"
    }
   ],
   "source": [
    "cross_val_score(RandomForestClassifier(),X,y,scoring='accuracy',cv=cv)"
   ]
  },
  {
   "cell_type": "code",
   "execution_count": 45,
   "metadata": {},
   "outputs": [
    {
     "data": {
      "text/plain": [
       "array([0.88416076, 0.87943262, 0.87943262, 0.84042553, 0.8498818 ,\n",
       "       0.87588652, 0.88061466, 0.8286052 , 0.8498818 , 0.88061466])"
      ]
     },
     "execution_count": 45,
     "metadata": {},
     "output_type": "execute_result"
    }
   ],
   "source": [
    "cross_val_score(SVC(),X,y,scoring='accuracy',cv=cv)"
   ]
  },
  {
   "cell_type": "code",
   "execution_count": 46,
   "metadata": {},
   "outputs": [
    {
     "data": {
      "text/plain": [
       "array([0.9964539 , 0.99054374, 0.99172577, 1.        , 0.99881797,\n",
       "       0.9929078 , 0.99763593, 1.        , 0.99527187, 0.99527187])"
      ]
     },
     "execution_count": 46,
     "metadata": {},
     "output_type": "execute_result"
    }
   ],
   "source": [
    "cross_val_score(XGBClassifier(),X,y,scoring='accuracy',cv=cv)"
   ]
  },
  {
   "cell_type": "markdown",
   "metadata": {},
   "source": [
    "### XG Boost is the most accurate"
   ]
  },
  {
   "cell_type": "markdown",
   "metadata": {},
   "source": [
    "### Building the model"
   ]
  },
  {
   "cell_type": "code",
   "execution_count": 48,
   "metadata": {},
   "outputs": [],
   "source": [
    "x_train,x_test,y_train,y_test=train_test_split(X,y,test_size=0.3,random_state=42)"
   ]
  },
  {
   "cell_type": "code",
   "execution_count": 47,
   "metadata": {},
   "outputs": [],
   "source": [
    "xg=XGBClassifier()"
   ]
  },
  {
   "cell_type": "code",
   "execution_count": 49,
   "metadata": {},
   "outputs": [
    {
     "data": {
      "text/plain": [
       "XGBClassifier(base_score=0.5, booster=None, colsample_bylevel=1,\n",
       "              colsample_bynode=1, colsample_bytree=1, gamma=0, gpu_id=-1,\n",
       "              importance_type='gain', interaction_constraints=None,\n",
       "              learning_rate=0.300000012, max_delta_step=0, max_depth=6,\n",
       "              min_child_weight=1, missing=nan, monotone_constraints=None,\n",
       "              n_estimators=100, n_jobs=0, num_parallel_tree=1,\n",
       "              objective='binary:logistic', random_state=0, reg_alpha=0,\n",
       "              reg_lambda=1, scale_pos_weight=1, subsample=1, tree_method=None,\n",
       "              validate_parameters=False, verbosity=None)"
      ]
     },
     "execution_count": 49,
     "metadata": {},
     "output_type": "execute_result"
    }
   ],
   "source": [
    "xg.fit(x_train,y_train)"
   ]
  },
  {
   "cell_type": "code",
   "execution_count": 50,
   "metadata": {},
   "outputs": [],
   "source": [
    "prediction=xg.predict(x_test)"
   ]
  },
  {
   "cell_type": "markdown",
   "metadata": {},
   "source": [
    "### Testing the model"
   ]
  },
  {
   "cell_type": "code",
   "execution_count": 53,
   "metadata": {},
   "outputs": [
    {
     "name": "stdout",
     "output_type": "stream",
     "text": [
      "              precision    recall  f1-score   support\n",
      "\n",
      "           0       0.99      1.00      1.00       455\n",
      "           1       1.00      0.99      1.00       391\n",
      "\n",
      "    accuracy                           1.00       846\n",
      "   macro avg       1.00      1.00      1.00       846\n",
      "weighted avg       1.00      1.00      1.00       846\n",
      "\n"
     ]
    }
   ],
   "source": [
    "print(classification_report(y_test,prediction))"
   ]
  },
  {
   "cell_type": "code",
   "execution_count": 54,
   "metadata": {},
   "outputs": [
    {
     "data": {
      "text/plain": [
       "array([[455,   0],\n",
       "       [  3, 388]])"
      ]
     },
     "execution_count": 54,
     "metadata": {},
     "output_type": "execute_result"
    }
   ],
   "source": [
    "confusion_matrix(y_test,prediction)"
   ]
  },
  {
   "cell_type": "markdown",
   "metadata": {},
   "source": [
    "### ROC Curve"
   ]
  },
  {
   "cell_type": "code",
   "execution_count": 59,
   "metadata": {},
   "outputs": [],
   "source": [
    "fpr, tpr, thresholds=roc_curve(y_test,prediction)"
   ]
  },
  {
   "cell_type": "code",
   "execution_count": 66,
   "metadata": {},
   "outputs": [
    {
     "data": {
      "text/plain": [
       "[<matplotlib.lines.Line2D at 0x7f3d70649e10>]"
      ]
     },
     "execution_count": 66,
     "metadata": {},
     "output_type": "execute_result"
    },
    {
     "data": {
      "image/png": "[encoded data removed]",
      "text/plain": [
       "<Figure size 432x288 with 1 Axes>"
      ]
     },
     "metadata": {
      "needs_background": "light"
     },
     "output_type": "display_data"
    }
   ],
   "source": [
    "plt.plot(fpr,tpr,linestyle='--',color='red')\n",
    "plt.plot([0, 1], [0, 1], color='navy', linestyle='--')"
   ]
  },
  {
   "cell_type": "markdown",
   "metadata": {},
   "source": [
    "## <center>Model is 99.9% accurate</center>"
   ]
  }
 ],
 "metadata": {
  "kernelspec": {
   "display_name": "Python 3",
   "language": "python",
   "name": "python3"
  },
  "language_info": {
   "codemirror_mode": {
    "name": "ipython",
    "version": 3
   },
   "file_extension": ".py",
   "mimetype": "text/x-python",
   "name": "python",
   "nbconvert_exporter": "python",
   "pygments_lexer": "ipython3",
   "version": "3.7.4"
  }
 },
 "nbformat": 4,
 "nbformat_minor": 2
}
